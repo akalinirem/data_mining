{
 "cells": [
  {
   "cell_type": "code",
   "execution_count": 4,
   "metadata": {},
   "outputs": [],
   "source": [
    "import numpy as np\n",
    "import pandas as pd"
   ]
  },
  {
   "cell_type": "code",
   "execution_count": 7,
   "metadata": {},
   "outputs": [
    {
     "data": {
      "text/html": [
       "<div>\n",
       "<style scoped>\n",
       "    .dataframe tbody tr th:only-of-type {\n",
       "        vertical-align: middle;\n",
       "    }\n",
       "\n",
       "    .dataframe tbody tr th {\n",
       "        vertical-align: top;\n",
       "    }\n",
       "\n",
       "    .dataframe thead th {\n",
       "        text-align: right;\n",
       "    }\n",
       "</style>\n",
       "<table border=\"1\" class=\"dataframe\">\n",
       "  <thead>\n",
       "    <tr style=\"text-align: right;\">\n",
       "      <th></th>\n",
       "      <th>First Name</th>\n",
       "      <th>Gender</th>\n",
       "      <th>Start Date</th>\n",
       "      <th>Last Login Time</th>\n",
       "      <th>Salary</th>\n",
       "      <th>Bonus %</th>\n",
       "      <th>Senior Management</th>\n",
       "      <th>Team</th>\n",
       "    </tr>\n",
       "  </thead>\n",
       "  <tbody>\n",
       "    <tr>\n",
       "      <th>0</th>\n",
       "      <td>Douglas</td>\n",
       "      <td>Male</td>\n",
       "      <td>8/6/1993</td>\n",
       "      <td>12:42 PM</td>\n",
       "      <td>97308</td>\n",
       "      <td>6.945</td>\n",
       "      <td>True</td>\n",
       "      <td>Marketing</td>\n",
       "    </tr>\n",
       "    <tr>\n",
       "      <th>1</th>\n",
       "      <td>Thomas</td>\n",
       "      <td>Male</td>\n",
       "      <td>3/31/1996</td>\n",
       "      <td>6:53 AM</td>\n",
       "      <td>61933</td>\n",
       "      <td>4.170</td>\n",
       "      <td>True</td>\n",
       "      <td>NaN</td>\n",
       "    </tr>\n",
       "    <tr>\n",
       "      <th>2</th>\n",
       "      <td>Maria</td>\n",
       "      <td>Female</td>\n",
       "      <td>4/23/1993</td>\n",
       "      <td>11:17 AM</td>\n",
       "      <td>130590</td>\n",
       "      <td>11.858</td>\n",
       "      <td>False</td>\n",
       "      <td>Finance</td>\n",
       "    </tr>\n",
       "    <tr>\n",
       "      <th>3</th>\n",
       "      <td>Jerry</td>\n",
       "      <td>Male</td>\n",
       "      <td>3/4/2005</td>\n",
       "      <td>1:00 PM</td>\n",
       "      <td>138705</td>\n",
       "      <td>9.340</td>\n",
       "      <td>True</td>\n",
       "      <td>Finance</td>\n",
       "    </tr>\n",
       "    <tr>\n",
       "      <th>4</th>\n",
       "      <td>Larry</td>\n",
       "      <td>Male</td>\n",
       "      <td>1/24/1998</td>\n",
       "      <td>4:47 PM</td>\n",
       "      <td>101004</td>\n",
       "      <td>1.389</td>\n",
       "      <td>True</td>\n",
       "      <td>Client Services</td>\n",
       "    </tr>\n",
       "  </tbody>\n",
       "</table>\n",
       "</div>"
      ],
      "text/plain": [
       "  First Name  Gender Start Date  ... Bonus %  Senior Management             Team\n",
       "0    Douglas    Male   8/6/1993  ...   6.945               True        Marketing\n",
       "1     Thomas    Male  3/31/1996  ...   4.170               True              NaN\n",
       "2      Maria  Female  4/23/1993  ...  11.858              False          Finance\n",
       "3      Jerry    Male   3/4/2005  ...   9.340               True          Finance\n",
       "4      Larry    Male  1/24/1998  ...   1.389               True  Client Services\n",
       "\n",
       "[5 rows x 8 columns]"
      ]
     },
     "execution_count": 7,
     "metadata": {},
     "output_type": "execute_result"
    }
   ],
   "source": [
    "df = pd.read_csv(\"employees.csv\")\n",
    "df.head()\n",
    "# df.tail() (son 5 satır)"
   ]
  },
  {
   "cell_type": "code",
   "execution_count": 17,
   "metadata": {},
   "outputs": [
    {
     "data": {
      "text/plain": [
       "43"
      ]
     },
     "execution_count": 17,
     "metadata": {},
     "output_type": "execute_result"
    }
   ],
   "source": [
    "# Bunun içinde null veri var mı ve bunun sayısı ne?\n",
    "df['Team'].isnull().sum() "
   ]
  },
  {
   "cell_type": "code",
   "execution_count": 18,
   "metadata": {},
   "outputs": [
    {
     "data": {
      "text/plain": [
       "First Name            67\n",
       "Gender               145\n",
       "Start Date             0\n",
       "Last Login Time        0\n",
       "Salary                 0\n",
       "Bonus %                0\n",
       "Senior Management     67\n",
       "Team                  43\n",
       "dtype: int64"
      ]
     },
     "execution_count": 18,
     "metadata": {},
     "output_type": "execute_result"
    }
   ],
   "source": [
    "# Eksik veri sayısı.\n",
    "df.isnull().sum()"
   ]
  },
  {
   "cell_type": "markdown",
   "metadata": {},
   "source": [
    "    df.dropna(how=any) \n",
    "(any --> bir veri bile eksik olsa tüm satırı siler.)\n",
    "(all --> tüm satır  eksik iste tamamını siler.)\n",
    "\n",
    "    df.dropna(thresh=2) \n",
    "(thresh --> en az 2 verisi dolu olan sütunları tut gibi.)\n",
    "\n",
    "    df.dropna(thresh=2).isnull().sum() \n",
    "\n",
    "    len(df.columns) \n",
    "(sütun sayısı)\n",
    "\n",
    "    df.shape\n",
    "(satır sayısı,sütun sayısı)"
   ]
  },
  {
   "cell_type": "code",
   "execution_count": 29,
   "metadata": {},
   "outputs": [],
   "source": [
    "df2 = pd.DataFrame(np.random.rand(3,2),\n",
    "                   columns=['sutun 1', 'surun 2'],\n",
    "                   index=['a','b','c'])"
   ]
  },
  {
   "cell_type": "code",
   "execution_count": 30,
   "metadata": {},
   "outputs": [
    {
     "data": {
      "text/html": [
       "<div>\n",
       "<style scoped>\n",
       "    .dataframe tbody tr th:only-of-type {\n",
       "        vertical-align: middle;\n",
       "    }\n",
       "\n",
       "    .dataframe tbody tr th {\n",
       "        vertical-align: top;\n",
       "    }\n",
       "\n",
       "    .dataframe thead th {\n",
       "        text-align: right;\n",
       "    }\n",
       "</style>\n",
       "<table border=\"1\" class=\"dataframe\">\n",
       "  <thead>\n",
       "    <tr style=\"text-align: right;\">\n",
       "      <th></th>\n",
       "      <th>sutun 1</th>\n",
       "      <th>surun 2</th>\n",
       "    </tr>\n",
       "  </thead>\n",
       "  <tbody>\n",
       "    <tr>\n",
       "      <th>a</th>\n",
       "      <td>0.015336</td>\n",
       "      <td>0.324701</td>\n",
       "    </tr>\n",
       "    <tr>\n",
       "      <th>b</th>\n",
       "      <td>0.358243</td>\n",
       "      <td>0.372741</td>\n",
       "    </tr>\n",
       "    <tr>\n",
       "      <th>c</th>\n",
       "      <td>0.729517</td>\n",
       "      <td>0.834143</td>\n",
       "    </tr>\n",
       "  </tbody>\n",
       "</table>\n",
       "</div>"
      ],
      "text/plain": [
       "    sutun 1   surun 2\n",
       "a  0.015336  0.324701\n",
       "b  0.358243  0.372741\n",
       "c  0.729517  0.834143"
      ]
     },
     "execution_count": 30,
     "metadata": {},
     "output_type": "execute_result"
    }
   ],
   "source": [
    "df2"
   ]
  },
  {
   "cell_type": "code",
   "execution_count": 33,
   "metadata": {},
   "outputs": [
    {
     "data": {
      "text/plain": [
       "array([[0.01533611, 0.32470122],\n",
       "       [0.35824269, 0.37274097],\n",
       "       [0.72951677, 0.83414258]])"
      ]
     },
     "execution_count": 33,
     "metadata": {},
     "output_type": "execute_result"
    }
   ],
   "source": [
    "# Veri setini numpy array'e dönüştürür.\n",
    "# pandas ---> numpy\n",
    "df2.to_numpy()"
   ]
  },
  {
   "cell_type": "code",
   "execution_count": 34,
   "metadata": {},
   "outputs": [
    {
     "data": {
      "text/html": [
       "<div>\n",
       "<style scoped>\n",
       "    .dataframe tbody tr th:only-of-type {\n",
       "        vertical-align: middle;\n",
       "    }\n",
       "\n",
       "    .dataframe tbody tr th {\n",
       "        vertical-align: top;\n",
       "    }\n",
       "\n",
       "    .dataframe thead th {\n",
       "        text-align: right;\n",
       "    }\n",
       "</style>\n",
       "<table border=\"1\" class=\"dataframe\">\n",
       "  <thead>\n",
       "    <tr style=\"text-align: right;\">\n",
       "      <th></th>\n",
       "      <th>First Name</th>\n",
       "      <th>Gender</th>\n",
       "      <th>Start Date</th>\n",
       "      <th>Last Login Time</th>\n",
       "      <th>Salary</th>\n",
       "      <th>Bonus %</th>\n",
       "      <th>Senior Management</th>\n",
       "      <th>Team</th>\n",
       "    </tr>\n",
       "  </thead>\n",
       "  <tbody>\n",
       "    <tr>\n",
       "      <th>0</th>\n",
       "      <td>Douglas</td>\n",
       "      <td>Male</td>\n",
       "      <td>8/6/1993</td>\n",
       "      <td>12:42 PM</td>\n",
       "      <td>97308</td>\n",
       "      <td>6.945</td>\n",
       "      <td>True</td>\n",
       "      <td>Marketing</td>\n",
       "    </tr>\n",
       "    <tr>\n",
       "      <th>1</th>\n",
       "      <td>Thomas</td>\n",
       "      <td>Male</td>\n",
       "      <td>3/31/1996</td>\n",
       "      <td>6:53 AM</td>\n",
       "      <td>61933</td>\n",
       "      <td>4.170</td>\n",
       "      <td>True</td>\n",
       "      <td>NaN</td>\n",
       "    </tr>\n",
       "    <tr>\n",
       "      <th>2</th>\n",
       "      <td>Maria</td>\n",
       "      <td>Female</td>\n",
       "      <td>4/23/1993</td>\n",
       "      <td>11:17 AM</td>\n",
       "      <td>130590</td>\n",
       "      <td>11.858</td>\n",
       "      <td>False</td>\n",
       "      <td>Finance</td>\n",
       "    </tr>\n",
       "    <tr>\n",
       "      <th>3</th>\n",
       "      <td>Jerry</td>\n",
       "      <td>Male</td>\n",
       "      <td>3/4/2005</td>\n",
       "      <td>1:00 PM</td>\n",
       "      <td>138705</td>\n",
       "      <td>9.340</td>\n",
       "      <td>True</td>\n",
       "      <td>Finance</td>\n",
       "    </tr>\n",
       "    <tr>\n",
       "      <th>4</th>\n",
       "      <td>Larry</td>\n",
       "      <td>Male</td>\n",
       "      <td>1/24/1998</td>\n",
       "      <td>4:47 PM</td>\n",
       "      <td>101004</td>\n",
       "      <td>1.389</td>\n",
       "      <td>True</td>\n",
       "      <td>Client Services</td>\n",
       "    </tr>\n",
       "  </tbody>\n",
       "</table>\n",
       "</div>"
      ],
      "text/plain": [
       "  First Name  Gender Start Date  ... Bonus %  Senior Management             Team\n",
       "0    Douglas    Male   8/6/1993  ...   6.945               True        Marketing\n",
       "1     Thomas    Male  3/31/1996  ...   4.170               True              NaN\n",
       "2      Maria  Female  4/23/1993  ...  11.858              False          Finance\n",
       "3      Jerry    Male   3/4/2005  ...   9.340               True          Finance\n",
       "4      Larry    Male  1/24/1998  ...   1.389               True  Client Services\n",
       "\n",
       "[5 rows x 8 columns]"
      ]
     },
     "execution_count": 34,
     "metadata": {},
     "output_type": "execute_result"
    }
   ],
   "source": [
    "df.head()"
   ]
  },
  {
   "cell_type": "code",
   "execution_count": 35,
   "metadata": {},
   "outputs": [
    {
     "data": {
      "text/plain": [
       "Team\n",
       "Client Services         106\n",
       "Finance                 102\n",
       "Business Development    101\n",
       "Marketing                98\n",
       "Product                  95\n",
       "Sales                    94\n",
       "Engineering              92\n",
       "Human Resources          91\n",
       "Distribution             90\n",
       "Legal                    88\n",
       "Name: count, dtype: int64"
      ]
     },
     "execution_count": 35,
     "metadata": {},
     "output_type": "execute_result"
    }
   ],
   "source": [
    "df.Team.value_counts()"
   ]
  },
  {
   "cell_type": "code",
   "execution_count": 41,
   "metadata": {},
   "outputs": [
    {
     "data": {
      "text/html": [
       "<div>\n",
       "<style scoped>\n",
       "    .dataframe tbody tr th:only-of-type {\n",
       "        vertical-align: middle;\n",
       "    }\n",
       "\n",
       "    .dataframe tbody tr th {\n",
       "        vertical-align: top;\n",
       "    }\n",
       "\n",
       "    .dataframe thead th {\n",
       "        text-align: right;\n",
       "    }\n",
       "</style>\n",
       "<table border=\"1\" class=\"dataframe\">\n",
       "  <thead>\n",
       "    <tr style=\"text-align: right;\">\n",
       "      <th></th>\n",
       "      <th>First Name</th>\n",
       "      <th>Gender</th>\n",
       "      <th>Start Date</th>\n",
       "      <th>Last Login Time</th>\n",
       "      <th>Salary</th>\n",
       "      <th>Bonus %</th>\n",
       "      <th>Senior Management</th>\n",
       "      <th>Team</th>\n",
       "    </tr>\n",
       "  </thead>\n",
       "  <tbody>\n",
       "    <tr>\n",
       "      <th>644</th>\n",
       "      <td>Katherine</td>\n",
       "      <td>Female</td>\n",
       "      <td>8/13/1996</td>\n",
       "      <td>12:21 AM</td>\n",
       "      <td>149908</td>\n",
       "      <td>18.912</td>\n",
       "      <td>False</td>\n",
       "      <td>Finance</td>\n",
       "    </tr>\n",
       "    <tr>\n",
       "      <th>429</th>\n",
       "      <td>Rose</td>\n",
       "      <td>Female</td>\n",
       "      <td>5/28/2015</td>\n",
       "      <td>8:40 AM</td>\n",
       "      <td>149903</td>\n",
       "      <td>5.630</td>\n",
       "      <td>False</td>\n",
       "      <td>Human Resources</td>\n",
       "    </tr>\n",
       "    <tr>\n",
       "      <th>828</th>\n",
       "      <td>Cynthia</td>\n",
       "      <td>Female</td>\n",
       "      <td>7/12/2006</td>\n",
       "      <td>8:55 AM</td>\n",
       "      <td>149684</td>\n",
       "      <td>7.864</td>\n",
       "      <td>False</td>\n",
       "      <td>Product</td>\n",
       "    </tr>\n",
       "    <tr>\n",
       "      <th>186</th>\n",
       "      <td>NaN</td>\n",
       "      <td>Female</td>\n",
       "      <td>2/23/2005</td>\n",
       "      <td>9:50 PM</td>\n",
       "      <td>149654</td>\n",
       "      <td>1.825</td>\n",
       "      <td>NaN</td>\n",
       "      <td>Sales</td>\n",
       "    </tr>\n",
       "    <tr>\n",
       "      <th>160</th>\n",
       "      <td>Kathy</td>\n",
       "      <td>Female</td>\n",
       "      <td>3/18/2000</td>\n",
       "      <td>7:26 PM</td>\n",
       "      <td>149563</td>\n",
       "      <td>16.991</td>\n",
       "      <td>True</td>\n",
       "      <td>Finance</td>\n",
       "    </tr>\n",
       "    <tr>\n",
       "      <th>...</th>\n",
       "      <td>...</td>\n",
       "      <td>...</td>\n",
       "      <td>...</td>\n",
       "      <td>...</td>\n",
       "      <td>...</td>\n",
       "      <td>...</td>\n",
       "      <td>...</td>\n",
       "      <td>...</td>\n",
       "    </tr>\n",
       "    <tr>\n",
       "      <th>650</th>\n",
       "      <td>Cynthia</td>\n",
       "      <td>Female</td>\n",
       "      <td>7/5/1986</td>\n",
       "      <td>1:24 AM</td>\n",
       "      <td>35381</td>\n",
       "      <td>11.749</td>\n",
       "      <td>False</td>\n",
       "      <td>Finance</td>\n",
       "    </tr>\n",
       "    <tr>\n",
       "      <th>63</th>\n",
       "      <td>Matthew</td>\n",
       "      <td>Male</td>\n",
       "      <td>1/2/2013</td>\n",
       "      <td>10:33 PM</td>\n",
       "      <td>35203</td>\n",
       "      <td>18.040</td>\n",
       "      <td>False</td>\n",
       "      <td>Human Resources</td>\n",
       "    </tr>\n",
       "    <tr>\n",
       "      <th>82</th>\n",
       "      <td>Steven</td>\n",
       "      <td>Male</td>\n",
       "      <td>3/30/1980</td>\n",
       "      <td>9:20 PM</td>\n",
       "      <td>35095</td>\n",
       "      <td>8.379</td>\n",
       "      <td>True</td>\n",
       "      <td>Client Services</td>\n",
       "    </tr>\n",
       "    <tr>\n",
       "      <th>238</th>\n",
       "      <td>Kevin</td>\n",
       "      <td>Male</td>\n",
       "      <td>3/25/1982</td>\n",
       "      <td>7:31 AM</td>\n",
       "      <td>35061</td>\n",
       "      <td>5.128</td>\n",
       "      <td>False</td>\n",
       "      <td>Legal</td>\n",
       "    </tr>\n",
       "    <tr>\n",
       "      <th>576</th>\n",
       "      <td>Michael</td>\n",
       "      <td>Male</td>\n",
       "      <td>7/30/1993</td>\n",
       "      <td>5:35 PM</td>\n",
       "      <td>35013</td>\n",
       "      <td>14.879</td>\n",
       "      <td>False</td>\n",
       "      <td>Product</td>\n",
       "    </tr>\n",
       "  </tbody>\n",
       "</table>\n",
       "<p>1000 rows × 8 columns</p>\n",
       "</div>"
      ],
      "text/plain": [
       "    First Name  Gender Start Date  ... Bonus %  Senior Management             Team\n",
       "644  Katherine  Female  8/13/1996  ...  18.912              False          Finance\n",
       "429       Rose  Female  5/28/2015  ...   5.630              False  Human Resources\n",
       "828    Cynthia  Female  7/12/2006  ...   7.864              False          Product\n",
       "186        NaN  Female  2/23/2005  ...   1.825                NaN            Sales\n",
       "160      Kathy  Female  3/18/2000  ...  16.991               True          Finance\n",
       "..         ...     ...        ...  ...     ...                ...              ...\n",
       "650    Cynthia  Female   7/5/1986  ...  11.749              False          Finance\n",
       "63     Matthew    Male   1/2/2013  ...  18.040              False  Human Resources\n",
       "82      Steven    Male  3/30/1980  ...   8.379               True  Client Services\n",
       "238      Kevin    Male  3/25/1982  ...   5.128              False            Legal\n",
       "576    Michael    Male  7/30/1993  ...  14.879              False          Product\n",
       "\n",
       "[1000 rows x 8 columns]"
      ]
     },
     "execution_count": 41,
     "metadata": {},
     "output_type": "execute_result"
    }
   ],
   "source": [
    "# büyükten --> küçüğe\n",
    "df.sort_values(by='Salary' ,ascending=False)\n",
    "\n",
    "# küçükten --> büyüğe\n",
    "# df.sort_values(by='Salary')"
   ]
  },
  {
   "cell_type": "code",
   "execution_count": 43,
   "metadata": {},
   "outputs": [
    {
     "data": {
      "text/plain": [
       "First Name            object\n",
       "Gender                object\n",
       "Start Date            object\n",
       "Last Login Time       object\n",
       "Salary                 int64\n",
       "Bonus %              float64\n",
       "Senior Management     object\n",
       "Team                  object\n",
       "dtype: object"
      ]
     },
     "execution_count": 43,
     "metadata": {},
     "output_type": "execute_result"
    }
   ],
   "source": [
    "# Veri tipleri\n",
    "df.dtypes"
   ]
  },
  {
   "cell_type": "code",
   "execution_count": 45,
   "metadata": {},
   "outputs": [],
   "source": [
    "df.sort_values(by='Salary' ,ascending=False, inplace=True)"
   ]
  },
  {
   "cell_type": "code",
   "execution_count": 51,
   "metadata": {},
   "outputs": [],
   "source": [
    "# indexleri reset eder ve sıfırdan başlatır.\n",
    "df.reset_index(drop=True, inplace=True)"
   ]
  },
  {
   "cell_type": "code",
   "execution_count": 50,
   "metadata": {},
   "outputs": [
    {
     "data": {
      "text/html": [
       "<div>\n",
       "<style scoped>\n",
       "    .dataframe tbody tr th:only-of-type {\n",
       "        vertical-align: middle;\n",
       "    }\n",
       "\n",
       "    .dataframe tbody tr th {\n",
       "        vertical-align: top;\n",
       "    }\n",
       "\n",
       "    .dataframe thead th {\n",
       "        text-align: right;\n",
       "    }\n",
       "</style>\n",
       "<table border=\"1\" class=\"dataframe\">\n",
       "  <thead>\n",
       "    <tr style=\"text-align: right;\">\n",
       "      <th></th>\n",
       "      <th>First Name</th>\n",
       "      <th>Gender</th>\n",
       "      <th>Start Date</th>\n",
       "      <th>Last Login Time</th>\n",
       "      <th>Salary</th>\n",
       "      <th>Bonus %</th>\n",
       "      <th>Senior Management</th>\n",
       "      <th>Team</th>\n",
       "    </tr>\n",
       "  </thead>\n",
       "  <tbody>\n",
       "    <tr>\n",
       "      <th>0</th>\n",
       "      <td>Katherine</td>\n",
       "      <td>Female</td>\n",
       "      <td>8/13/1996</td>\n",
       "      <td>12:21 AM</td>\n",
       "      <td>149908</td>\n",
       "      <td>18.912</td>\n",
       "      <td>False</td>\n",
       "      <td>Finance</td>\n",
       "    </tr>\n",
       "    <tr>\n",
       "      <th>1</th>\n",
       "      <td>Rose</td>\n",
       "      <td>Female</td>\n",
       "      <td>5/28/2015</td>\n",
       "      <td>8:40 AM</td>\n",
       "      <td>149903</td>\n",
       "      <td>5.630</td>\n",
       "      <td>False</td>\n",
       "      <td>Human Resources</td>\n",
       "    </tr>\n",
       "    <tr>\n",
       "      <th>2</th>\n",
       "      <td>Cynthia</td>\n",
       "      <td>Female</td>\n",
       "      <td>7/12/2006</td>\n",
       "      <td>8:55 AM</td>\n",
       "      <td>149684</td>\n",
       "      <td>7.864</td>\n",
       "      <td>False</td>\n",
       "      <td>Product</td>\n",
       "    </tr>\n",
       "    <tr>\n",
       "      <th>3</th>\n",
       "      <td>NaN</td>\n",
       "      <td>Female</td>\n",
       "      <td>2/23/2005</td>\n",
       "      <td>9:50 PM</td>\n",
       "      <td>149654</td>\n",
       "      <td>1.825</td>\n",
       "      <td>NaN</td>\n",
       "      <td>Sales</td>\n",
       "    </tr>\n",
       "    <tr>\n",
       "      <th>4</th>\n",
       "      <td>Kathy</td>\n",
       "      <td>Female</td>\n",
       "      <td>3/18/2000</td>\n",
       "      <td>7:26 PM</td>\n",
       "      <td>149563</td>\n",
       "      <td>16.991</td>\n",
       "      <td>True</td>\n",
       "      <td>Finance</td>\n",
       "    </tr>\n",
       "  </tbody>\n",
       "</table>\n",
       "</div>"
      ],
      "text/plain": [
       "  First Name  Gender Start Date  ... Bonus %  Senior Management             Team\n",
       "0  Katherine  Female  8/13/1996  ...  18.912              False          Finance\n",
       "1       Rose  Female  5/28/2015  ...   5.630              False  Human Resources\n",
       "2    Cynthia  Female  7/12/2006  ...   7.864              False          Product\n",
       "3        NaN  Female  2/23/2005  ...   1.825                NaN            Sales\n",
       "4      Kathy  Female  3/18/2000  ...  16.991               True          Finance\n",
       "\n",
       "[5 rows x 8 columns]"
      ]
     },
     "execution_count": 50,
     "metadata": {},
     "output_type": "execute_result"
    }
   ],
   "source": [
    "df.head()"
   ]
  },
  {
   "cell_type": "markdown",
   "metadata": {},
   "source": [
    "Yukarıdaki tabloyu kaydetmek için"
   ]
  },
  {
   "cell_type": "code",
   "execution_count": 55,
   "metadata": {},
   "outputs": [],
   "source": [
    "df.to_csv(\"siralanmis.csv\")\n",
    "\n",
    "# Eğer bir dosya içine kaydetmek istenirse\n",
    "# df.to_csv(\"data \\\\ siralanmis.csv\")"
   ]
  },
  {
   "cell_type": "markdown",
   "metadata": {},
   "source": [
    "## APPLY"
   ]
  },
  {
   "cell_type": "code",
   "execution_count": 57,
   "metadata": {},
   "outputs": [],
   "source": [
    "# Mesela herkese 1000 TL zam yap gibi.\n",
    "df['zamli_maas']= df.Salary.apply(lambda x: x+1000)"
   ]
  },
  {
   "cell_type": "code",
   "execution_count": 64,
   "metadata": {},
   "outputs": [],
   "source": [
    "df['baslangic_ayi'] = df['Start Date'].apply(lambda x: x.split('/')[0])"
   ]
  },
  {
   "cell_type": "code",
   "execution_count": 63,
   "metadata": {},
   "outputs": [
    {
     "data": {
      "text/html": [
       "<div>\n",
       "<style scoped>\n",
       "    .dataframe tbody tr th:only-of-type {\n",
       "        vertical-align: middle;\n",
       "    }\n",
       "\n",
       "    .dataframe tbody tr th {\n",
       "        vertical-align: top;\n",
       "    }\n",
       "\n",
       "    .dataframe thead th {\n",
       "        text-align: right;\n",
       "    }\n",
       "</style>\n",
       "<table border=\"1\" class=\"dataframe\">\n",
       "  <thead>\n",
       "    <tr style=\"text-align: right;\">\n",
       "      <th></th>\n",
       "      <th>First Name</th>\n",
       "      <th>Gender</th>\n",
       "      <th>Start Date</th>\n",
       "      <th>Last Login Time</th>\n",
       "      <th>Salary</th>\n",
       "      <th>Bonus %</th>\n",
       "      <th>Senior Management</th>\n",
       "      <th>Team</th>\n",
       "      <th>zamli_maas</th>\n",
       "      <th>baslangic_ayi</th>\n",
       "    </tr>\n",
       "  </thead>\n",
       "  <tbody>\n",
       "    <tr>\n",
       "      <th>0</th>\n",
       "      <td>Katherine</td>\n",
       "      <td>Female</td>\n",
       "      <td>8/13/1996</td>\n",
       "      <td>12:21 AM</td>\n",
       "      <td>150908</td>\n",
       "      <td>18.912</td>\n",
       "      <td>False</td>\n",
       "      <td>Finance</td>\n",
       "      <td>151908</td>\n",
       "      <td>8</td>\n",
       "    </tr>\n",
       "    <tr>\n",
       "      <th>1</th>\n",
       "      <td>Rose</td>\n",
       "      <td>Female</td>\n",
       "      <td>5/28/2015</td>\n",
       "      <td>8:40 AM</td>\n",
       "      <td>150903</td>\n",
       "      <td>5.630</td>\n",
       "      <td>False</td>\n",
       "      <td>Human Resources</td>\n",
       "      <td>151903</td>\n",
       "      <td>5</td>\n",
       "    </tr>\n",
       "    <tr>\n",
       "      <th>2</th>\n",
       "      <td>Cynthia</td>\n",
       "      <td>Female</td>\n",
       "      <td>7/12/2006</td>\n",
       "      <td>8:55 AM</td>\n",
       "      <td>150684</td>\n",
       "      <td>7.864</td>\n",
       "      <td>False</td>\n",
       "      <td>Product</td>\n",
       "      <td>151684</td>\n",
       "      <td>7</td>\n",
       "    </tr>\n",
       "    <tr>\n",
       "      <th>3</th>\n",
       "      <td>NaN</td>\n",
       "      <td>Female</td>\n",
       "      <td>2/23/2005</td>\n",
       "      <td>9:50 PM</td>\n",
       "      <td>150654</td>\n",
       "      <td>1.825</td>\n",
       "      <td>NaN</td>\n",
       "      <td>Sales</td>\n",
       "      <td>151654</td>\n",
       "      <td>2</td>\n",
       "    </tr>\n",
       "    <tr>\n",
       "      <th>4</th>\n",
       "      <td>Kathy</td>\n",
       "      <td>Female</td>\n",
       "      <td>3/18/2000</td>\n",
       "      <td>7:26 PM</td>\n",
       "      <td>150563</td>\n",
       "      <td>16.991</td>\n",
       "      <td>True</td>\n",
       "      <td>Finance</td>\n",
       "      <td>151563</td>\n",
       "      <td>3</td>\n",
       "    </tr>\n",
       "  </tbody>\n",
       "</table>\n",
       "</div>"
      ],
      "text/plain": [
       "  First Name  Gender Start Date  ...             Team  zamli_maas  baslangic_ayi\n",
       "0  Katherine  Female  8/13/1996  ...          Finance      151908              8\n",
       "1       Rose  Female  5/28/2015  ...  Human Resources      151903              5\n",
       "2    Cynthia  Female  7/12/2006  ...          Product      151684              7\n",
       "3        NaN  Female  2/23/2005  ...            Sales      151654              2\n",
       "4      Kathy  Female  3/18/2000  ...          Finance      151563              3\n",
       "\n",
       "[5 rows x 10 columns]"
      ]
     },
     "execution_count": 63,
     "metadata": {},
     "output_type": "execute_result"
    }
   ],
   "source": [
    "df.head()"
   ]
  },
  {
   "cell_type": "markdown",
   "metadata": {},
   "source": [
    "    regex komutları"
   ]
  },
  {
   "cell_type": "code",
   "execution_count": 65,
   "metadata": {},
   "outputs": [],
   "source": [
    "df['tam_sayi_bonuslar'] = df['Bonus %'].apply(lambda x: int(x))"
   ]
  }
 ],
 "metadata": {
  "kernelspec": {
   "display_name": "venv",
   "language": "python",
   "name": "python3"
  },
  "language_info": {
   "codemirror_mode": {
    "name": "ipython",
    "version": 3
   },
   "file_extension": ".py",
   "mimetype": "text/x-python",
   "name": "python",
   "nbconvert_exporter": "python",
   "pygments_lexer": "ipython3",
   "version": "3.10.12"
  }
 },
 "nbformat": 4,
 "nbformat_minor": 2
}
