{
 "cells": [
  {
   "cell_type": "markdown",
   "metadata": {},
   "source": [
    "<img src=\"../img/logistic_regression.png\" width=500 heigth=250>"
   ]
  },
  {
   "cell_type": "markdown",
   "metadata": {},
   "source": [
    "β0 ---> Regresyon çizgisinin y eksenini kestiği nokta. (x'in 0 olduğu noktada y kaçtır sorusunun cevabı β0'dır.)\n",
    "\n",
    "β1 ---> Regresyon çizgisinin eğimini verir.(Katsayısını verir.)\n",
    "\n",
    "hata(e1) ---> Çizgiden sapmalar hatayı gösterir."
   ]
  },
  {
   "cell_type": "markdown",
   "metadata": {},
   "source": [
    "    Eğer y değişkeni eğer sürekli verilerden oluşuyorsa regresyon modeli kurmak için kullanılacak modeldir.\n",
    "\n",
    "    y değişkeni her zaman sürekli verilerden oluşmaz.\n",
    "\n",
    "    y değeri kesikli verilerden oluşursa 0 ve 1'lerden oluşur.\n",
    "\n",
    "    Lojistik regresyonda hedef değişkenlerin 0 ve 1 olduğu durumlarla ilgilenilir."
   ]
  },
  {
   "cell_type": "code",
   "execution_count": null,
   "metadata": {},
   "outputs": [],
   "source": []
  }
 ],
 "metadata": {
  "language_info": {
   "name": "python"
  }
 },
 "nbformat": 4,
 "nbformat_minor": 2
}
