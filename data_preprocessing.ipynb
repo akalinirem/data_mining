{
 "cells": [
  {
   "cell_type": "markdown",
   "metadata": {},
   "source": [
    "    Numpy (Bilimsel Hesaplama)\n",
    "\n",
    "    Matplotlib (Veri Görselleştirme)\n",
    "\n",
    "    Scipy (İstatistik İçin Araç)\n",
    "\n",
    "    scikit-learn (Makine Öğrenmesi,Sınıflama,Regresyon,Kümeleme,Boyutluk Azaltma Gibib İstatiksel Modelleme İçin Araç)\n",
    "\n",
    "    Pandas (Veri Toplama ve Hzırlama)\n"
   ]
  },
  {
   "cell_type": "markdown",
   "metadata": {},
   "source": []
  },
  {
   "cell_type": "markdown",
   "metadata": {},
   "source": [
    "# Veri Hazırlama ve Önişleme\n"
   ]
  },
  {
   "cell_type": "markdown",
   "metadata": {},
   "source": [
    "# Data Propercessing\n",
    "\n",
    "\n",
    "    (Kategorik Veriler)\n",
    "\n",
    "    Nominal Veriler:\n",
    "\n",
    "Daha fazla ifadesi ile kullanılmazlar.ID,göz,rengi (Eşitlik var mı yok mu?)\n",
    "\n",
    "\n",
    "    Sıralama Ölçeği(Ordinal):\n",
    "\n",
    "Daha fazla ifadesi ile kulanlırlar.Uzunluk(uzun,orta boy,kısa)vb. (Büyüklük küçüklük)\n",
    "\n",
    "\n",
    "    (Sayısal(Numeric) Veriler)\n",
    "\n",
    "    Aralıklı(Interval):\n",
    "\n",
    "Fahrenhait,Celcius vb.\n",
    "\n",
    "\n",
    "    Oran (Ratio):\n",
    "\n",
    "Başlangıç noktası 0'dır ve 0 noktası yokluk ifade eder.Kelvin,uzunluk(cm),zaman gibi."
   ]
  },
  {
   "cell_type": "markdown",
   "metadata": {},
   "source": []
  },
  {
   "cell_type": "markdown",
   "metadata": {},
   "source": [
    "<img src=\"/img/table-1.png\" alt=\"Tablo Resmi-1\" width=\"500\" height=\"250\">"
   ]
  },
  {
   "cell_type": "markdown",
   "metadata": {},
   "source": [
    "<img src=\"data_transformations.png\" alt=\"Tablo Resmi-2\" width=\"500\" height=\"250\">"
   ]
  },
  {
   "cell_type": "markdown",
   "metadata": {},
   "source": []
  },
  {
   "cell_type": "markdown",
   "metadata": {},
   "source": [
    "# Sürekli ve Kesikli Değişkenler \n",
    "\n",
    "\n",
    "    Sürekli Değişken:\n",
    "\n",
    "\n",
    "Sınırsız sayıda değere sahiptir.\n",
    "Genellikle küsuratlı değerler ile ifade edilir.\n",
    "\n",
    "    Kesikli Değişken:\n",
    "\n",
    "\n",
    "Belirli sayıda değere sahiptir.\n",
    "Genellikle tam sayılı değerler ile ifade edilir.\n",
    "İkili(Binary) gösterim bu göterimin bir çeşididir. (Var yada yok)\n",
    "\n"
   ]
  },
  {
   "cell_type": "markdown",
   "metadata": {},
   "source": []
  },
  {
   "cell_type": "markdown",
   "metadata": {},
   "source": [
    "## Temel İstatistik Hesaplamaları"
   ]
  },
  {
   "cell_type": "markdown",
   "metadata": {},
   "source": [
    "<img src=\"central_tendency.png\" width=500 heigth=250 >"
   ]
  },
  {
   "cell_type": "markdown",
   "metadata": {},
   "source": [
    "<img src=\"dispersion_measures.png\" width=500 heigth=250 >\n",
    "\n",
    "Bölümler çeyrekleri temsil eder."
   ]
  },
  {
   "cell_type": "markdown",
   "metadata": {},
   "source": [
    "<img src=\"normal_distribution.png\" width=500 heigth=250>\n",
    "\n",
    "Altta kalan alan olayın olma olasılığını verir."
   ]
  },
  {
   "cell_type": "markdown",
   "metadata": {},
   "source": []
  },
  {
   "cell_type": "markdown",
   "metadata": {},
   "source": [
    "## Histo-gram(Kutup Grafikleri)\n",
    "\n",
    "Verinin dağılımı ile ilgili bilgi verir."
   ]
  },
  {
   "cell_type": "markdown",
   "metadata": {},
   "source": [
    "## Dağılım(Scatter) Grafiği\n",
    "\n",
    "Veriler arasında ilşki, trend ya da örüntü olup olmadığını kontrol için çizilir.\n",
    "\n",
    "Herbir ikili değer x ve y eksenindeki noktada işaretlenir.\n",
    "\n",
    "Noktalar ve ayrılıklar hakkında hızlı bir görüş açısı sağlar.\n",
    "\n",
    "Herbir nokta veri ve özellik hakkında bilgi verir."
   ]
  },
  {
   "cell_type": "markdown",
   "metadata": {},
   "source": [
    "<img src=\"box_plots.png\" width=500 heigth=250>"
   ]
  },
  {
   "cell_type": "markdown",
   "metadata": {},
   "source": []
  },
  {
   "cell_type": "markdown",
   "metadata": {},
   "source": [
    "# Varyans ve Standart Sapma"
   ]
  },
  {
   "cell_type": "markdown",
   "metadata": {},
   "source": []
  },
  {
   "cell_type": "markdown",
   "metadata": {},
   "source": [
    "## Kayıt Veriseti\n",
    "\n",
    "## Veri Matrisi (Numeric)\n",
    "Verilerin tamamı sayılardan oluşuyorsa bu veri şekli.\n",
    "\n",
    "## Belge Veriseti\n",
    "\n",
    "## İşlemler Veriseti\n",
    "Özel bir kayıt verisidir.Her kayıt birkaç elemandan oluşan setleri tutar.\n",
    "\n",
    "## Grafik Veriset\n",
    "Molekül yapısı ya da internet sayfalarının gösterilmesi.\n"
   ]
  },
  {
   "cell_type": "markdown",
   "metadata": {},
   "source": []
  },
  {
   "cell_type": "markdown",
   "metadata": {},
   "source": [
    "## Benzerlik Ölçütleri\n",
    "\n",
    "    Benzerlik Ölçüsü:\n",
    "İki verinin benzeyip benzemediğinin nümerik ölçüsü.\n",
    "[0-1] arasında bir değerle ölçülür ve 1'e yakın olması daha fazla benzediği anlamına gelir.\n",
    "\n",
    "    Uzaklık(Benzemezlik) Ölçüsü:\n",
    "İki veri birbirinden ne kadar farklı olduğunun ölçülmesi durumu.\n",
    "Eğere benzemez ise değer 0'a yakın çıkar.\n",
    "\n",
    "\n"
   ]
  },
  {
   "cell_type": "markdown",
   "metadata": {},
   "source": [
    "## Kümelemede Benzerlik Ölçütleri\n",
    "\n",
    "## Veri ve Uzaklık Matrisi\n",
    "\n",
    "## Nominal Verilerin Uzaklık Hesabı"
   ]
  },
  {
   "cell_type": "markdown",
   "metadata": {},
   "source": []
  },
  {
   "cell_type": "markdown",
   "metadata": {},
   "source": [
    "## Eksik Veriler \n",
    "\n",
    "    Tamamen rastgele eksik olan veriler \n",
    "Tüm değişkenlere ait verilerden herhangi birisinde eksik veri yer alabilir.\n",
    "Bu veriler rastgele bir değer ile doldurulabilir.\n",
    "\n",
    "    Diğer Doldurma Metotları\n",
    "Ortalama ile doldurma \n",
    "Mod,medyan ile doldurma\n",
    "Akıllı bir algoritma kullanarak doldurma\n",
    "\n",
    "1. Eksik verileri gözardı et.\n",
    "2. Elle doldur.\n",
    "3. lobal bir değişken kullan.\n",
    "4. Merkezi bir ölçü kullanarak değiştir.\n",
    "5. Aynı sınıfa ait mrkezi bir ölçü ile değiştir.\n",
    "6. Olası bir değer ile değiştir.\n"
   ]
  },
  {
   "cell_type": "markdown",
   "metadata": {},
   "source": [
    "## Gürültülü Veri \n",
    "Uç verilerin veri setine girmesi.Örneğin ses kalitesi düşük olan bi telefondan alınan insan sesi frekansları.\n"
   ]
  },
  {
   "cell_type": "markdown",
   "metadata": {},
   "source": [
    "## Aykırı (Uç) Veriler"
   ]
  },
  {
   "cell_type": "markdown",
   "metadata": {},
   "source": [
    "## Tekrarlı Veriler"
   ]
  },
  {
   "cell_type": "markdown",
   "metadata": {},
   "source": [
    "## Birleştirme"
   ]
  },
  {
   "cell_type": "markdown",
   "metadata": {},
   "source": [
    "## Örneklem Alma\n",
    "Örneklemin evrensel kümeyi temil etmesi gerekir.\n",
    "\n",
    "1. Herhangi bir elemanın seçilmesinin eşit olasılıklı olması\n",
    "2. Seçerek Ayırma\n",
    "2.1. Rastgele seçilen verilerin örneklemden çıkarılması\n",
    "3. Verileri küçük parçalara bölmek"
   ]
  },
  {
   "cell_type": "markdown",
   "metadata": {},
   "source": [
    "## Özellik İndirgemesi\n",
    "\n",
    "Teknikler:\n",
    "\n",
    "Birincil Etken Analizi(PCA=principle Component Analysis)"
   ]
  },
  {
   "cell_type": "markdown",
   "metadata": {},
   "source": [
    "## Kesikli Hale Getirme\n"
   ]
  },
  {
   "cell_type": "markdown",
   "metadata": {},
   "source": [
    "## İkili Sisteme Çevirme"
   ]
  },
  {
   "cell_type": "markdown",
   "metadata": {},
   "source": [
    "## Özellik Dönüşümleri \n",
    "\n",
    "    Normalizasyon\n",
    "Özellik verileri arasındaki farklılıkları azaltarak bir aralık içerisine alma işlemi\n",
    "Sezonal etki gibi istenmeyen özellikler ortadan kalkar.\n",
    "\n",
    "    Standardizasyon\n",
    "Verinin ortalamadan çıkarılarak standart sapmasına bölünmesi ile elde edilen sonuçlardır."
   ]
  },
  {
   "cell_type": "markdown",
   "metadata": {},
   "source": []
  }
 ],
 "metadata": {
  "kernelspec": {
   "display_name": "Python 3",
   "language": "python",
   "name": "python3"
  },
  "language_info": {
   "name": "python",
   "version": "3.10.12"
  }
 },
 "nbformat": 4,
 "nbformat_minor": 2
}
