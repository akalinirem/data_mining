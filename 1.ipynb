{
 "cells": [
  {
   "cell_type": "markdown",
   "metadata": {},
   "source": [
    "Numpy (Bilimsel Hesaplama)\n",
    "\n",
    "Matplotlib (Veri Görselleştirme)\n",
    "\n",
    "Scipy (İstatistik İçin Araç)\n",
    "\n",
    "scikit-learn (Makine Öğrenmesi,Sınıflama,Regresyon,Kümeleme,Boyutluk Azaltma Gibib İstatiksel Modelleme İçin Araç)\n",
    "\n",
    "Pandas (Veri Toplama ve Hzırlama)\n"
   ]
  }
 ],
 "metadata": {
  "language_info": {
   "name": "python"
  }
 },
 "nbformat": 4,
 "nbformat_minor": 2
}
